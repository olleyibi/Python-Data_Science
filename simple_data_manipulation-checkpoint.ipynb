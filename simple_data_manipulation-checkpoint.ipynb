{
 "cells": [
  {
   "cell_type": "markdown",
   "id": "4b4605c2",
   "metadata": {},
   "source": [
    "### Basic functions"
   ]
  },
  {
   "cell_type": "code",
   "execution_count": null,
   "id": "bee0f24c",
   "metadata": {},
   "outputs": [],
   "source": [
    "type('####') # gives the type of the input/variable [int/float/bool]"
   ]
  },
  {
   "cell_type": "code",
   "execution_count": null,
   "id": "39b8366c",
   "metadata": {},
   "outputs": [],
   "source": [
    "int('####') # convert an input/var to integer data type\n",
    "\n",
    "float('####') # convert an input/var to float/decimal\n",
    "\n",
    "str('####') # convert an input/var to strings/character\n",
    "\n",
    "min(a,b,c,.....) # get the minimum value in the sequence/list/tuple\n",
    "\n",
    "max(a,b,c,.....) # get the maximum value in the sequence/list/tuple\n",
    "\n",
    "sum(a,b,c,.....) # sum all the value in the sequence/list/tuple\n",
    "\n",
    "round(a,b) # round/approximate value 'a' to 'b' decimal places\n",
    "\n",
    "len('####') # gives length/number od element in a string, list, tuple or dictionary"
   ]
  },
  {
   "cell_type": "code",
   "execution_count": null,
   "id": "36c10ed5",
   "metadata": {},
   "outputs": [],
   "source": [
    "a % b # gives the remainder of a/b\n",
    "\n",
    "a ** b # gives the result of a raised to th epower of b (a^b)\n",
    "\n",
    "pow(a,b) # gives the result of a raised to th epower of b (a^b)"
   ]
  },
  {
   "cell_type": "markdown",
   "id": "a0563c72",
   "metadata": {},
   "source": [
    "###### Indexing operations \n",
    "'####' represents name of string/list/tuple"
   ]
  },
  {
   "cell_type": "code",
   "execution_count": null,
   "id": "70553405",
   "metadata": {},
   "outputs": [],
   "source": [
    "'####'[a] # extract the 'a'TH element from the string/list/tuple, NB: 'a' is an integer value \n",
    "\n",
    "'####'[-1] # extract last element of string/list/tuple\n",
    "\n",
    "'####'[a] = b # replace element on string/list/tuple in position 'a' with element/value b, NB: a is the integer position/index\n",
    "\n",
    "del '####'[a] # delete element/value on string/list/tuple in position 'a'"
   ]
  },
  {
   "cell_type": "markdown",
   "id": "c84dea4b",
   "metadata": {},
   "source": [
    "###### List operations"
   ]
  },
  {
   "cell_type": "code",
   "execution_count": null,
   "id": "7584f7e4",
   "metadata": {},
   "outputs": [],
   "source": [
    "'####'.append(a) # add a single value/element 'a' to the end of a list\n",
    "\n",
    "'####'.extend([a,b,....]) # add values/elements 'a,b,.....' to the end of a list"
   ]
  }
 ],
 "metadata": {
  "kernelspec": {
   "display_name": "Python 3 (ipykernel)",
   "language": "python",
   "name": "python3"
  },
  "language_info": {
   "codemirror_mode": {
    "name": "ipython",
    "version": 3
   },
   "file_extension": ".py",
   "mimetype": "text/x-python",
   "name": "python",
   "nbconvert_exporter": "python",
   "pygments_lexer": "ipython3",
   "version": "3.9.7"
  }
 },
 "nbformat": 4,
 "nbformat_minor": 5
}
