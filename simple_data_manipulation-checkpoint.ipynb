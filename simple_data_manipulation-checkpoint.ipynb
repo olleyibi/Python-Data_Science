{
 "cells": [
  {
   "cell_type": "markdown",
   "id": "5021a446",
   "metadata": {},
   "source": [
    "### Basic functions"
   ]
  },
  {
   "cell_type": "code",
   "execution_count": null,
   "id": "bee0f24c",
   "metadata": {},
   "outputs": [],
   "source": [
    "type('####') # gives the type of the input/variable [int/float/bool]"
   ]
  },
  {
   "cell_type": "code",
   "execution_count": null,
   "id": "39b8366c",
   "metadata": {},
   "outputs": [],
   "source": [
    "int('####') # convert an input/var to integer data type\n",
    "\n",
    "float('####') # convert an input/var to float/decimal\n",
    "\n",
    "str('####') # convert an input/var to strings/character\n",
    "\n",
    "min(a,b,c,.....) # get the minimum value in the sequence/list/tuple\n",
    "\n",
    "max(a,b,c,.....) # get the maximum value in the sequence/list/tuple\n",
    "\n",
    "sum(a,b,c,.....) # sum all the value in the sequence/list/tuple\n",
    "\n",
    "round(a,b) # round/approximate value 'a' to 'b' decimal places\n",
    "\n",
    "len('####') # gives length/number od element in a string, list, tuple or dictionary\n",
    "\n",
    "list/tuple(range(start,stop,step)) # give a ranged list/tuple of numbers begining at 'start', ends at 'stop' with interval of 'step'\n",
    "        # start = first number in the list, NB: if not provided, it is taken as 0\n",
    "        # stop = last value -1, NB: must be provided\n",
    "        # step = distance/interval between 2 consecutive values, NB: if not provided, it is taken as 1\n",
    "        # start, stop, step must always be an integer type"
   ]
  },
  {
   "cell_type": "code",
   "execution_count": null,
   "id": "36c10ed5",
   "metadata": {},
   "outputs": [],
   "source": [
    "a % b # gives the remainder of a/b\n",
    "\n",
    "a ** b # gives the result of a raised to th epower of b (a^b)\n",
    "\n",
    "pow(a,b) # gives the result of a raised to th epower of b (a^b)"
   ]
  },
  {
   "cell_type": "markdown",
   "id": "5e6a5351",
   "metadata": {},
   "source": [
    "#### Indexing operations \n",
    "'####' represents name of string/list/tuple"
   ]
  },
  {
   "cell_type": "code",
   "execution_count": null,
   "id": "09640955",
   "metadata": {},
   "outputs": [],
   "source": [
    "'####'[a] # extract the 'a'TH element from the string/list/tuple, NB: 'a' is an integer value \n",
    "\n",
    "'####'[-1] # extract last element of string/list/tuple\n",
    "\n",
    "'####'[a] = b # replace element on string/list/tuple in position 'a' with element/value b, NB: a is the integer position/index\n",
    "\n",
    "'####'.index(a) # returns the position 'a' is found in the string/list/tuple"
   ]
  },
  {
   "cell_type": "markdown",
   "id": "90e121d8",
   "metadata": {},
   "source": [
    "#### List and slice operations\n",
    "'####' represents name of list"
   ]
  },
  {
   "cell_type": "code",
   "execution_count": null,
   "id": "6ab49c8c",
   "metadata": {},
   "outputs": [],
   "source": [
    "'####'.append(a) # add a single value/element 'a' to the end of a list\n",
    "\n",
    "del '####'[a] # delete element/value on list in position 'a'\n",
    "\n",
    "'####'.extend([a,b,....]) # add values/elements 'a,b,.....' to the end of a list\n",
    "\n",
    "'####'[a:b] # select/slice element from position a to (b-1), NB: 'a' and 'b' are integer values\n",
    "\n",
    "'####'[:a] # select/slice element from the first position to (a-1), NB: 'a' is an integer value\n",
    "\n",
    "'####'[:a] # select/slice element from position a to the last position, NB: 'a' is an integer value\n",
    "\n",
    "'####'.sort(reverse = True) # orders the element of a list alphabetically or numerically, NB: 'reverse=True' sorts from high to low"
   ]
  },
  {
   "cell_type": "markdown",
   "id": "565b1ed9",
   "metadata": {},
   "source": [
    "#### String operations"
   ]
  },
  {
   "cell_type": "code",
   "execution_count": null,
   "id": "4a1573b1",
   "metadata": {},
   "outputs": [],
   "source": [
    "'a,d,c,....'.split(',') # split the string where ',' is found and create a list/tuple with the element "
   ]
  },
  {
   "cell_type": "markdown",
   "id": "c26e5b77",
   "metadata": {},
   "source": [
    "#### Dictionary operations\n",
    "'####', alphabets, numerals represents dictionary names, keys and values respectively"
   ]
  },
  {
   "cell_type": "code",
   "execution_count": null,
   "id": "32f0ab3b",
   "metadata": {},
   "outputs": [],
   "source": [
    "'####'[a] # get all values under key 'a' in the dictionary\n",
    "\n",
    "'####'[a] = '1' # create a new dictionary key 'a' with value '1' OR replace/change value of dictionary key 'a' as/to '1'\n",
    "\n",
    "'####'.get(a) # get all values under key 'a' in the dictionary, NB: returns 'none if key doesn't exist"
   ]
  }
 ],
 "metadata": {
  "kernelspec": {
   "display_name": "Python 3 (ipykernel)",
   "language": "python",
   "name": "python3"
  },
  "language_info": {
   "codemirror_mode": {
    "name": "ipython",
    "version": 3
   },
   "file_extension": ".py",
   "mimetype": "text/x-python",
   "name": "python",
   "nbconvert_exporter": "python",
   "pygments_lexer": "ipython3",
   "version": "3.9.7"
  }
 },
 "nbformat": 4,
 "nbformat_minor": 5
}
