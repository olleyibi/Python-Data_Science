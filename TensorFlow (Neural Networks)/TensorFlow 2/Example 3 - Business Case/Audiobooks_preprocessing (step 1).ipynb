{
 "cells": [
  {
   "cell_type": "markdown",
   "id": "e5fcceb5",
   "metadata": {},
   "source": [
    "# Audiobook Practical Example (step 1)"
   ]
  },
  {
   "cell_type": "markdown",
   "id": "3e748fc5",
   "metadata": {},
   "source": [
    "## Import Libraries"
   ]
  },
  {
   "cell_type": "code",
   "execution_count": 11,
   "id": "69a6344c",
   "metadata": {},
   "outputs": [],
   "source": [
    "import numpy as np\n",
    "from sklearn import preprocessing"
   ]
  },
  {
   "cell_type": "markdown",
   "id": "d1258c27",
   "metadata": {},
   "source": [
    "## Extract data from csv"
   ]
  },
  {
   "cell_type": "code",
   "execution_count": 12,
   "id": "ba1fd637",
   "metadata": {},
   "outputs": [
    {
     "name": "stdout",
     "output_type": "stream",
     "text": [
      "(14084, 12)\n",
      "Recall targets and first column was removed\n"
     ]
    }
   ],
   "source": [
    "raw_csv_data = np.loadtxt('C:/Users/iolley2/Desktop/DS Contd/TensorFlow/Business Case/Audiobooks_data.csv',delimiter = ',')\n",
    "\n",
    "# skip the first column of the data\n",
    "unscaled_inputs_all = raw_csv_data[:,1:-1]\n",
    "targets_all = raw_csv_data[:,-1]\n",
    "print(f'{raw_csv_data.shape}\\nRecall targets and first column was removed')"
   ]
  },
  {
   "cell_type": "markdown",
   "id": "40a3cef7",
   "metadata": {},
   "source": [
    "## Balance dataset"
   ]
  },
  {
   "cell_type": "code",
   "execution_count": 13,
   "id": "b2057f6e",
   "metadata": {},
   "outputs": [],
   "source": [
    "num_one_targets = int(np.sum(targets_all)) # number of customers that converged ()\n",
    "zero_targets_counter = 0\n",
    "indices_to_remove = []\n",
    "\n",
    "for i in range(targets_all.shape[0]):\n",
    "    if targets_all[i] == 0:\n",
    "        zero_targets_counter += 1\n",
    "        if zero_targets_counter >num_one_targets:\n",
    "            indices_to_remove.append(i)\n",
    "\n",
    "unscaled_inputs_equal_priors = np.delete(unscaled_inputs_all, indices_to_remove,axis=0)\n",
    "targets_equal_priors = np.delete(targets_all, indices_to_remove,axis=0)"
   ]
  },
  {
   "cell_type": "markdown",
   "id": "d4c2f3c4",
   "metadata": {},
   "source": [
    "## Standardize the inputs"
   ]
  },
  {
   "cell_type": "code",
   "execution_count": 14,
   "id": "7233d4a1",
   "metadata": {},
   "outputs": [],
   "source": [
    "scaled_inputs = preprocessing.scale(unscaled_inputs_equal_priors)"
   ]
  },
  {
   "cell_type": "markdown",
   "id": "3eb15117",
   "metadata": {},
   "source": [
    "## Shuffle data"
   ]
  },
  {
   "cell_type": "code",
   "execution_count": 15,
   "id": "c1b92c39",
   "metadata": {},
   "outputs": [
    {
     "data": {
      "text/plain": [
       "array([   0,    1,    2, ..., 4471, 4472, 4473])"
      ]
     },
     "execution_count": 15,
     "metadata": {},
     "output_type": "execute_result"
    }
   ],
   "source": [
    "# create a range of numbers from total rows\n",
    "shuffled_indices = np.arange(scaled_inputs.shape[0]) # Take indices from the axix '0' of the scaled inputs shape and place them in a variable\n",
    "shuffled_indices"
   ]
  },
  {
   "cell_type": "code",
   "execution_count": 16,
   "id": "0a454fcf",
   "metadata": {},
   "outputs": [],
   "source": [
    "np.random.shuffle(shuffled_indices) # shuffle the indices\n"
   ]
  },
  {
   "cell_type": "code",
   "execution_count": 17,
   "id": "aaf7fb6a",
   "metadata": {},
   "outputs": [
    {
     "data": {
      "text/plain": [
       "array([[ 0.21053387, -0.18888517, -0.12759546, ..., -0.41569922,\n",
       "        -0.20183481, -0.80255852],\n",
       "       [ 1.27894497,  0.41646744,  0.53870369, ..., -0.41569922,\n",
       "        -0.20183481,  2.61858106],\n",
       "       [ 1.27894497,  0.41646744,  0.60615619, ..., -0.41569922,\n",
       "        -0.20183481, -0.80255852],\n",
       "       ...,\n",
       "       [-1.71260612, -1.27851988, -0.39082475, ..., -0.41569922,\n",
       "        -0.20183481, -0.80255852],\n",
       "       [-0.64419501, -0.67316726, -0.39082475, ..., -0.41569922,\n",
       "        -0.20183481, -0.80255852],\n",
       "       [ 0.21053387, -0.18888517, -0.39082475, ..., -0.41569922,\n",
       "        -0.20183481, -0.33471037]])"
      ]
     },
     "execution_count": 17,
     "metadata": {},
     "output_type": "execute_result"
    }
   ],
   "source": [
    "shuffled_inputs = scaled_inputs[shuffled_indices] # create shuffled input variables where indices are the shuffled indices\n",
    "shuffled_inputs"
   ]
  },
  {
   "cell_type": "code",
   "execution_count": 18,
   "id": "413cdf6b",
   "metadata": {},
   "outputs": [
    {
     "data": {
      "text/plain": [
       "array([1., 1., 0., ..., 1., 1., 1.])"
      ]
     },
     "execution_count": 18,
     "metadata": {},
     "output_type": "execute_result"
    }
   ],
   "source": [
    "\n",
    "shuffled_targets = targets_equal_priors[shuffled_indices] # create shuffled targets variable where indices are the shuffled indices\n",
    "shuffled_targets"
   ]
  },
  {
   "cell_type": "markdown",
   "id": "bcb57885",
   "metadata": {},
   "source": [
    "## Split the dataset into train, validation and test"
   ]
  },
  {
   "cell_type": "code",
   "execution_count": 19,
   "id": "10efe80d",
   "metadata": {},
   "outputs": [],
   "source": [
    "samples_count = shuffled_inputs.shape[0] # count total number of samples\n",
    "\n",
    "# determine the size of the 3 datasets (using 80-10-10 split)\n",
    "train_samples_count = int(0.8*samples_count)\n",
    "validation_samples_count = int(0.1*samples_count)\n",
    "test_samples_count = samples_count - train_samples_count - validation_samples_count\n",
    "\n",
    "train_inputs = shuffled_inputs[:train_samples_count] # select inputs from row 0 to total training input count\n",
    "train_targets = shuffled_targets[:train_samples_count] # select targets from row 0 to total training target count\n",
    "\n",
    "validation_inputs = shuffled_inputs[train_samples_count:train_samples_count+validation_samples_count] # select inputs from row total training input count(as the prev rows are selected for training set) to total training input count + total validation input count\n",
    "validation_targets = shuffled_targets[train_samples_count:train_samples_count+validation_samples_count] # select inputs from row total training target count(as the prev rows are selected for training set) to total training target count + total validation target count\n",
    "\n",
    "test_inputs = shuffled_inputs[train_samples_count+validation_samples_count:] # select inputs from row total training input count + total validation input count(as previous rows were selected for training and validation set) to the end\n",
    "test_targets = shuffled_targets[train_samples_count+validation_samples_count:] # select target from row total training target count + total validation target count(as previous rows were selected for training and validation set) to the end"
   ]
  },
  {
   "cell_type": "code",
   "execution_count": 20,
   "id": "027f25da",
   "metadata": {},
   "outputs": [
    {
     "name": "stdout",
     "output_type": "stream",
     "text": [
      "1808.0 3579 0.5051690416317407\n",
      "216.0 447 0.48322147651006714\n",
      "213.0 448 0.47544642857142855\n"
     ]
    }
   ],
   "source": [
    "print(np.sum(train_targets),train_samples_count,np.sum(train_targets)/train_samples_count)\n",
    "print(np.sum(validation_targets),validation_samples_count,np.sum(validation_targets)/validation_samples_count)\n",
    "print(np.sum(test_targets),test_samples_count,np.sum(test_targets)/test_samples_count)"
   ]
  },
  {
   "cell_type": "markdown",
   "id": "ace2de45",
   "metadata": {},
   "source": [
    "## Save 3 datasets in *.npz"
   ]
  },
  {
   "cell_type": "code",
   "execution_count": 32,
   "id": "ae0a4cb1",
   "metadata": {},
   "outputs": [],
   "source": [
    "np.savez('Audiobooks_data_train',inputs = train_inputs,targets = train_targets)\n",
    "np.savez('Audiobooks_data_test',inputs = test_inputs,targets = test_targets)\n",
    "np.savez('Audiobooks_data_validation',inputs =validation_inputs,targets = validation_targets)"
   ]
  },
  {
   "cell_type": "code",
   "execution_count": null,
   "id": "be36fa60",
   "metadata": {},
   "outputs": [],
   "source": []
  }
 ],
 "metadata": {
  "kernelspec": {
   "display_name": "Python 3 (ipykernel)",
   "language": "python",
   "name": "python3"
  },
  "language_info": {
   "codemirror_mode": {
    "name": "ipython",
    "version": 3
   },
   "file_extension": ".py",
   "mimetype": "text/x-python",
   "name": "python",
   "nbconvert_exporter": "python",
   "pygments_lexer": "ipython3",
   "version": "3.9.7"
  }
 },
 "nbformat": 4,
 "nbformat_minor": 5
}
