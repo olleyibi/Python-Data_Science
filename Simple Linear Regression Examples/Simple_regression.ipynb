{
 "cells": [
  {
   "cell_type": "markdown",
   "id": "300aeebe",
   "metadata": {},
   "source": [
    "# Simple Regression"
   ]
  },
  {
   "cell_type": "markdown",
   "id": "7ad53dd4",
   "metadata": {},
   "source": [
    "## Import Libraries"
   ]
  },
  {
   "cell_type": "code",
   "execution_count": null,
   "id": "848a3f01",
   "metadata": {},
   "outputs": [],
   "source": [
    "import numpy as np # work with multi-dimensional arrays\n",
    "import pandas as pd # enhances numpy to organise data in tabular form\n",
    "import scipy # Ecosystem conatining tools like numpy,pandas,matplotlib usable for MATHS/ML\n",
    "import statsmodels.api as sm #package built on numpy and scipy which integrates with pandas\n",
    "import matplotlib.pyplot as plt # 2D visualizations of NumPy computations\n",
    "import seaborn as sns # high level interface for drawing attractive statistical graphics based on matplotlib\n",
    "sns.set() # overides style and graphics of all matplotlib graphs\n",
    "# import sklearn # widely used machine learning\n",
    "from sklearn.linear_model import LinearRegression"
   ]
  },
  {
   "cell_type": "markdown",
   "id": "f70e914e",
   "metadata": {},
   "source": [
    "## Load Data"
   ]
  },
  {
   "cell_type": "code",
   "execution_count": null,
   "id": "6fd8dab0",
   "metadata": {},
   "outputs": [],
   "source": [
    "file_path = '####' # provide path the file/data, NB: all '\\' must be changed to '/'\n",
    "\n",
    "data = pd.read_csv(file_path) # import a .csv file"
   ]
  },
  {
   "cell_type": "code",
   "execution_count": null,
   "id": "7812c671",
   "metadata": {},
   "outputs": [],
   "source": [
    "# check data\n",
    "data"
   ]
  },
  {
   "cell_type": "markdown",
   "id": "51b0fc49",
   "metadata": {},
   "source": [
    "## Create regression"
   ]
  },
  {
   "cell_type": "markdown",
   "id": "7425c337",
   "metadata": {},
   "source": [
    "#### Define dependent and independent variables"
   ]
  },
  {
   "cell_type": "code",
   "execution_count": null,
   "id": "6b24eeca",
   "metadata": {},
   "outputs": [],
   "source": [
    "yname = '####' # column name of dependent variable\n",
    "x1name = '####' # column name of independent variable\n",
    "\n",
    "y = data[yname] # dependent variable\n",
    "x1 = data[x1name] # independent variable"
   ]
  },
  {
   "cell_type": "markdown",
   "id": "494bdd35",
   "metadata": {},
   "source": [
    "#### Explore in plot"
   ]
  },
  {
   "cell_type": "code",
   "execution_count": null,
   "id": "1aa9c8aa",
   "metadata": {},
   "outputs": [],
   "source": [
    "plt.scatter(x1,y) # plot the values of x against y\n",
    "plt.xlabel(x1name, fontsize = 20) # label x-axis\n",
    "plt.ylabel(yname, fontsize = 20) # label y-axis\n",
    "plt.show()"
   ]
  },
  {
   "cell_type": "markdown",
   "id": "b6f7c6a2",
   "metadata": {},
   "source": [
    "### Perform regression\n",
    "#### Using Statsmodels"
   ]
  },
  {
   "cell_type": "code",
   "execution_count": null,
   "id": "9db7b558",
   "metadata": {},
   "outputs": [],
   "source": [
    "x = sm.add_constant(x1)\n",
    "result = sm.OLS(y,x).fit() # perform the regression\n",
    "result.summary() # display result of regression in different tables"
   ]
  },
  {
   "cell_type": "markdown",
   "id": "73dd9068",
   "metadata": {},
   "source": [
    "#### Using SK_Learn"
   ]
  },
  {
   "cell_type": "code",
   "execution_count": null,
   "id": "6ac02669",
   "metadata": {},
   "outputs": [],
   "source": [
    "x1.shape,y.shape # check shapes of variables"
   ]
  },
  {
   "cell_type": "code",
   "execution_count": null,
   "id": "e97c6514",
   "metadata": {},
   "outputs": [],
   "source": [
    "# SK_Learn expects multiple independednt variables, NB: only done for simple linear regression\n",
    "x_matrix = x1.values.reshape(-1,1)\n",
    "x_matrix.shape"
   ]
  },
  {
   "cell_type": "code",
   "execution_count": null,
   "id": "8a9dd977",
   "metadata": {},
   "outputs": [],
   "source": [
    "reg = LinearRegression() # create model object\n",
    "reg.fit(x_matrix,y) # fit the model"
   ]
  },
  {
   "cell_type": "code",
   "execution_count": null,
   "id": "806626a1",
   "metadata": {},
   "outputs": [],
   "source": [
    "reg.score(x_matrix,y) # get R-Squared\n",
    "reg.coef_ # get regression coefficients\n",
    "reg.intercept_ # get intercept"
   ]
  },
  {
   "cell_type": "code",
   "execution_count": null,
   "id": "ce314f42",
   "metadata": {},
   "outputs": [],
   "source": [
    "# Predict\n",
    "input_val = '####' # 'x'/input variable to be used for prediction\n",
    "reg.predict([[input_val]]) # used when a single value is provided\n",
    "\n",
    "to_pred_data = '####' # used when a dataframe is provided\n",
    "reg.predict(to_pred_data)"
   ]
  },
  {
   "cell_type": "markdown",
   "id": "b5da0e96",
   "metadata": {},
   "source": [
    "#### Explore further on plot"
   ]
  },
  {
   "cell_type": "code",
   "execution_count": null,
   "id": "fa963fa2",
   "metadata": {},
   "outputs": [],
   "source": [
    "m = \"####\" # intercept, NB: is a number\n",
    "err = '####' # error/residual/epsalon, NB: is a number\n",
    "\n",
    "plt.scatter(x1,y) # plot the values of x against y\n",
    "yhat = m*x1 + err # regression equation of line\n",
    "fig = plt.plot(x1,yhat,\n",
    "               lw=4, # line width\n",
    "               c = 'orange', # line color\n",
    "               label= 'regression line' # line label)\n",
    "plt.xlabel(x1name, fontsize = 20) # label x-axis\n",
    "plt.ylabel(yname, fontsize = 20) # label y-axis\n",
    "plt.show()"
   ]
  }
 ],
 "metadata": {
  "kernelspec": {
   "display_name": "Python 3 (ipykernel)",
   "language": "python",
   "name": "python3"
  },
  "language_info": {
   "codemirror_mode": {
    "name": "ipython",
    "version": 3
   },
   "file_extension": ".py",
   "mimetype": "text/x-python",
   "name": "python",
   "nbconvert_exporter": "python",
   "pygments_lexer": "ipython3",
   "version": "3.9.7"
  }
 },
 "nbformat": 4,
 "nbformat_minor": 5
}
