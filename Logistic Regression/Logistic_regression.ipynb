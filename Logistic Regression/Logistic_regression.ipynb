{
 "cells": [
  {
   "cell_type": "markdown",
   "id": "300aeebe",
   "metadata": {},
   "source": [
    "# Logistic Regression"
   ]
  },
  {
   "cell_type": "markdown",
   "id": "7ad53dd4",
   "metadata": {},
   "source": [
    "## Import Libraries"
   ]
  },
  {
   "cell_type": "code",
   "execution_count": null,
   "id": "848a3f01",
   "metadata": {},
   "outputs": [],
   "source": [
    "import numpy as np # work with multi-dimensional arrays\n",
    "import pandas as pd # enhances numpy to organise data in tabular form\n",
    "import scipy # Ecosystem conatining tools like numpy,pandas,matplotlib usable for MATHS/ML\n",
    "import statsmodels.api as sm #package built on numpy and scipy which integrates with pandas\n",
    "import matplotlib.pyplot as plt # 2D visualizations of NumPy computations\n",
    "import seaborn as sns # high level interface for drawing attractive statistical graphics based on matplotlib\n",
    "sns.set() # overides style and graphics of all matplotlib graphs\n",
    "import sklearn # widely used machine learning"
   ]
  },
  {
   "cell_type": "markdown",
   "id": "f70e914e",
   "metadata": {},
   "source": [
    "## Load Data"
   ]
  },
  {
   "cell_type": "code",
   "execution_count": null,
   "id": "6fd8dab0",
   "metadata": {},
   "outputs": [],
   "source": [
    "file_path = '####' # provide path the file/data, NB: all '\\' must be changed to '/'\n",
    "\n",
    "data = pd.read_csv(file_path) # import a .csv file"
   ]
  },
  {
   "cell_type": "code",
   "execution_count": null,
   "id": "7812c671",
   "metadata": {},
   "outputs": [],
   "source": [
    "# check data\n",
    "data"
   ]
  },
  {
   "cell_type": "markdown",
   "id": "51b0fc49",
   "metadata": {},
   "source": [
    "## Create regression"
   ]
  },
  {
   "cell_type": "markdown",
   "id": "7425c337",
   "metadata": {},
   "source": [
    "#### Define dependent and independent variables"
   ]
  },
  {
   "cell_type": "code",
   "execution_count": null,
   "id": "6b24eeca",
   "metadata": {},
   "outputs": [],
   "source": [
    "yname = '####' # column name of dependent variable\n",
    "x1name,....xnname = '####',......'####' # column name of independent variable\n",
    "\n",
    "y = data[yname] # dependent variable\n",
    "x1 = data[[x1name,......xnname]] # independent variables"
   ]
  },
  {
   "cell_type": "markdown",
   "id": "b8bf2bd3",
   "metadata": {},
   "source": [
    "#### Standardization (if needed)"
   ]
  },
  {
   "cell_type": "code",
   "execution_count": 7,
   "id": "472e1530",
   "metadata": {},
   "outputs": [],
   "source": [
    "from sklearn.preprocessing import StandardScaler # import scaler library\n",
    "scaler = StandardScaler() # create scaler object\n",
    "scaler.fit(x1) # fit the dataframe values\n",
    "x_scaled = scaler.transform(x1) # standardize/transform the values"
   ]
  },
  {
   "cell_type": "markdown",
   "id": "b6f7c6a2",
   "metadata": {},
   "source": [
    "#### Perform regression\n",
    "For scaled data x_scaled can be substituted for x1\n",
    "### Using Statsmodels"
   ]
  },
  {
   "cell_type": "code",
   "execution_count": null,
   "id": "9db7b558",
   "metadata": {},
   "outputs": [],
   "source": [
    "x = sm.add_constant(x1)\n",
    "result_log = sm.Logit(y,x).fit() # perform the regression\n",
    "result_log.summary() # display result of regression in different tables"
   ]
  },
  {
   "cell_type": "markdown",
   "id": "251966f4",
   "metadata": {},
   "source": [
    "#### Make Prediction"
   ]
  },
  {
   "cell_type": "code",
   "execution_count": null,
   "id": "c2599d5c",
   "metadata": {},
   "outputs": [],
   "source": [
    "new_data = '####' # dataframe of data to be predicted\n",
    "new_data = sm.add_constant(new_data)\n",
    "prediction = result_log.predict(new_data)  # predict using new data\n",
    "# For scaled data\n",
    "new_data_scaled = scaler.transform(new_data)\n",
    "result_log.predict(new_data_scaled)\n",
    "\n",
    "# Accuracy\n",
    "result_log.pred_table() # Create confusion Matrix\n",
    "cm_df = pd.DataFrame(results_log.pred_table())\n",
    "cm_df.columns = ['Predicted 0', 'Predicted 1']\n",
    "cm_df = cm_df.rename(index = {0:'Actual 0',1:'Actual 1'})\n",
    "cm_df"
   ]
  },
  {
   "cell_type": "markdown",
   "id": "6abfc23e",
   "metadata": {},
   "source": [
    "### Using SK_Learn"
   ]
  },
  {
   "cell_type": "code",
   "execution_count": null,
   "id": "a4e1cac2",
   "metadata": {},
   "outputs": [],
   "source": [
    " # Create Model\n",
    "reg = LinearRegression()\n",
    "reg.fit(x1,y)"
   ]
  },
  {
   "cell_type": "code",
   "execution_count": null,
   "id": "6d3b80b3",
   "metadata": {},
   "outputs": [],
   "source": [
    "reg.coef_ # coefficient\n",
    "reg.intercept_ # intercept\n",
    "reg.score(x1,y) # R-Squared\n",
    "reg.predict(new_data) # predict using new data\n",
    "# For scaled data\n",
    "new_data_scaled = scaler.transform(new_data)\n",
    "reg.predict(new_data_scaled)\n",
    "\n",
    "# Accuracy\n",
    "reg.pred_table()  # Create confusion Matrix\n",
    "cm_df = pd.DataFrame(reg.pred_table())\n",
    "cm_df.columns = ['Predicted 0', 'Predicted 1']\n",
    "cm_df = cm_df.rename(index = {0:'Actual 0',1:'Actual 1'})\n",
    "cm_df"
   ]
  },
  {
   "cell_type": "markdown",
   "id": "97a31ed3",
   "metadata": {},
   "source": [
    "#### Accuracy"
   ]
  },
  {
   "cell_type": "code",
   "execution_count": null,
   "id": "2f01074c",
   "metadata": {},
   "outputs": [],
   "source": [
    "cm = np.array(cm_df)\n",
    "accuracy_train = (cm[0,0]+cm[1,1])/cm.sum()\n",
    "accuracy_train"
   ]
  },
  {
   "cell_type": "markdown",
   "id": "add9d554",
   "metadata": {},
   "source": [
    "#### Feature Selection"
   ]
  },
  {
   "cell_type": "code",
   "execution_count": 32,
   "id": "966b43d6",
   "metadata": {},
   "outputs": [],
   "source": [
    "from sklearn.feature_selection import f_regression"
   ]
  },
  {
   "cell_type": "code",
   "execution_count": null,
   "id": "c4ab50ec",
   "metadata": {},
   "outputs": [],
   "source": [
    "f_regression(x1,y) # get f-regression\n",
    "f_statistic = f_regression(x1,y)[0] # get the f-statistic\n",
    "p_values = f_regression(x1,y)[1].round(3) # get p_value rounded to 3 dp"
   ]
  },
  {
   "cell_type": "markdown",
   "id": "1f0087f5",
   "metadata": {},
   "source": [
    "### Create a summary table"
   ]
  },
  {
   "cell_type": "code",
   "execution_count": null,
   "id": "86818900",
   "metadata": {},
   "outputs": [],
   "source": [
    "reg_summary = pd.DataFrame(data = x1.columns.values,columns = ['Features'])\n",
    "reg_summary['Coefficients'] = reg.coef_\n",
    "reg_summary['p-values'] = p_values.round(3)\n",
    "reg_summary['F-Statistic'] = f_statistic.round(3)\n",
    "reg_summary"
   ]
  }
 ],
 "metadata": {
  "kernelspec": {
   "display_name": "Python 3 (ipykernel)",
   "language": "python",
   "name": "python3"
  },
  "language_info": {
   "codemirror_mode": {
    "name": "ipython",
    "version": 3
   },
   "file_extension": ".py",
   "mimetype": "text/x-python",
   "name": "python",
   "nbconvert_exporter": "python",
   "pygments_lexer": "ipython3",
   "version": "3.9.7"
  }
 },
 "nbformat": 4,
 "nbformat_minor": 5
}
