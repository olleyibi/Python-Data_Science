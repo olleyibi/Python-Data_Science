{
 "cells": [
  {
   "cell_type": "markdown",
   "id": "c00cad8a",
   "metadata": {},
   "source": [
    "### Print output from a loop in horizontal lines"
   ]
  },
  {
   "cell_type": "code",
   "execution_count": 1,
   "id": "d72bb74a",
   "metadata": {},
   "outputs": [
    {
     "name": "stdout",
     "output_type": "stream",
     "text": [
      "0 1 2 3 4 5 6 7 8 9 "
     ]
    }
   ],
   "source": [
    "for i in range(10):\n",
    "    print(i, end=\" \")"
   ]
  },
  {
   "cell_type": "markdown",
   "id": "85088956",
   "metadata": {},
   "source": [
    "#### Rearrange a dataframe column"
   ]
  },
  {
   "cell_type": "code",
   "execution_count": null,
   "id": "194d0d88",
   "metadata": {},
   "outputs": [],
   "source": [
    "data ='####' # dataframe\n",
    "data.columns.values #see all columns in the dataframe\n",
    "col = ['####',....,'####'] # rearranged format\n",
    "rearranged_data = data[col] "
   ]
  },
  {
   "cell_type": "markdown",
   "id": "3ab67ba0",
   "metadata": {},
   "source": [
    "###### Confusion matrix (compare 2 categorical columns"
   ]
  },
  {
   "cell_type": "code",
   "execution_count": null,
   "id": "6dcbf273",
   "metadata": {},
   "outputs": [],
   "source": [
    "def confusion_matrix(df: pd.DataFrame, col1: str, col2: str):\n",
    "    \"\"\"\n",
    "    Given a dataframe with at least\n",
    "    two categorical columns, create a \n",
    "    confusion matrix of the count of the columns\n",
    "    cross-counts\n",
    "    \n",
    "    use like:\n",
    "    \n",
    "    >>> confusion_matrix(test_df, 'actual_label', 'predicted_label')\n",
    "    \"\"\"\n",
    "    return (\n",
    "            df\n",
    "            .groupby([col1, col2])\n",
    "            .size()\n",
    "            .unstack(fill_value=0)\n",
    "            )"
   ]
  }
 ],
 "metadata": {
  "kernelspec": {
   "display_name": "Python 3 (ipykernel)",
   "language": "python",
   "name": "python3"
  },
  "language_info": {
   "codemirror_mode": {
    "name": "ipython",
    "version": 3
   },
   "file_extension": ".py",
   "mimetype": "text/x-python",
   "name": "python",
   "nbconvert_exporter": "python",
   "pygments_lexer": "ipython3",
   "version": "3.9.7"
  }
 },
 "nbformat": 4,
 "nbformat_minor": 5
}
