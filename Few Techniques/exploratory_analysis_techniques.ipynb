{
 "cells": [
  {
   "cell_type": "markdown",
   "id": "c9aee707",
   "metadata": {},
   "source": [
    "## Load Data"
   ]
  },
  {
   "cell_type": "code",
   "execution_count": null,
   "id": "3735db89",
   "metadata": {},
   "outputs": [],
   "source": [
    "file_path = '####' # provide path the file/data, NB: all '\\' must be changed to '/'\n",
    "\n",
    "data = pd.read_csv(file_path) # import a .csv file"
   ]
  },
  {
   "cell_type": "code",
   "execution_count": null,
   "id": "6b012e70",
   "metadata": {},
   "outputs": [],
   "source": [
    "#check data\n",
    "data"
   ]
  },
  {
   "cell_type": "code",
   "execution_count": null,
   "id": "bef67cbe",
   "metadata": {},
   "outputs": [],
   "source": [
    "# check data descripion for columns \n",
    "data.describe(include = 'all' # include all columns including strings\n",
    "             )"
   ]
  }
 ],
 "metadata": {
  "kernelspec": {
   "display_name": "Python 3 (ipykernel)",
   "language": "python",
   "name": "python3"
  },
  "language_info": {
   "codemirror_mode": {
    "name": "ipython",
    "version": 3
   },
   "file_extension": ".py",
   "mimetype": "text/x-python",
   "name": "python",
   "nbconvert_exporter": "python",
   "pygments_lexer": "ipython3",
   "version": "3.9.7"
  }
 },
 "nbformat": 4,
 "nbformat_minor": 5
}
