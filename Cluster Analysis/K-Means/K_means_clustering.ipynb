{
 "cells": [
  {
   "cell_type": "markdown",
   "id": "300aeebe",
   "metadata": {},
   "source": [
    "# K-Means Clustering"
   ]
  },
  {
   "cell_type": "markdown",
   "id": "7ad53dd4",
   "metadata": {},
   "source": [
    "## Import Libraries"
   ]
  },
  {
   "cell_type": "code",
   "execution_count": null,
   "id": "05fe034c",
   "metadata": {},
   "outputs": [],
   "source": [
    "import pandas as pd\n",
    "import numpy as np\n",
    "import matplotlib.pyplot as plt\n",
    "import seaborn as sns\n",
    "# Set the styles to Seaborn\n",
    "sns.set()\n",
    "# Import the KMeans module so we can perform k-means clustering with sklearn\n",
    "from sklearn.cluster import KMeans"
   ]
  },
  {
   "cell_type": "markdown",
   "id": "f70e914e",
   "metadata": {},
   "source": [
    "## Load Data"
   ]
  },
  {
   "cell_type": "code",
   "execution_count": null,
   "id": "6fd8dab0",
   "metadata": {},
   "outputs": [],
   "source": [
    "file_path = '####' # provide path the file/data, NB: all '\\' must be changed to '/'\n",
    "\n",
    "data = pd.read_csv(file_path) # import a .csv file"
   ]
  },
  {
   "cell_type": "code",
   "execution_count": null,
   "id": "7812c671",
   "metadata": {},
   "outputs": [],
   "source": [
    "# check data\n",
    "data"
   ]
  },
  {
   "cell_type": "markdown",
   "id": "b0048f6a",
   "metadata": {},
   "source": [
    "## Plot the data"
   ]
  },
  {
   "cell_type": "code",
   "execution_count": null,
   "id": "4c118002",
   "metadata": {},
   "outputs": [],
   "source": [
    "x = '####' # dataset column on x-axis\n",
    "y = '####' # dataset column on y-axis\n",
    "start,stop = '####','####' # starting and ending values on the x or y axis\n",
    "\n",
    "# Note that in order to reach a result resembling the world map, we must use the longitude as y, and the latitude as x\n",
    "plt.scatter(y,x)\n",
    "\n",
    "# Set limits of the axes, again to resemble the world map\n",
    "plt.xlim(start,stop) # limit/scale on x-axis\n",
    "plt.ylim(start,stop) # limit/scale on y-axis\n",
    "plt.show"
   ]
  },
  {
   "cell_type": "markdown",
   "id": "914354d7",
   "metadata": {},
   "source": [
    "## Select the features"
   ]
  },
  {
   "cell_type": "code",
   "execution_count": 6,
   "id": "853211b7",
   "metadata": {},
   "outputs": [],
   "source": [
    "col_names = ['####',.....,'####'] # List of predictor/independent variable columns\n",
    "x1 = data[col_names]"
   ]
  },
  {
   "cell_type": "markdown",
   "id": "5f1a1d81",
   "metadata": {},
   "source": [
    "## Clustering"
   ]
  },
  {
   "cell_type": "markdown",
   "id": "f816f427",
   "metadata": {},
   "source": [
    "### Select the number of clusters"
   ]
  },
  {
   "cell_type": "markdown",
   "id": "81867b63",
   "metadata": {},
   "source": [
    "Using wcss/wlbow method to find optiman k"
   ]
  },
  {
   "cell_type": "code",
   "execution_count": null,
   "id": "6c2ff080",
   "metadata": {},
   "outputs": [],
   "source": [
    "n='####' # highest number of clusters\n",
    "wcss = []\n",
    "for i in range(1,n):\n",
    "    kmeans = KMeans(i,init='k-means++')\n",
    "    kmeans.fit(x)\n",
    "    wcss_iter = kmeans.inertia_\n",
    "    wcss.append(wcss_iter)"
   ]
  },
  {
   "cell_type": "markdown",
   "id": "895fc243",
   "metadata": {},
   "source": [
    "#### Elbow Method"
   ]
  },
  {
   "cell_type": "code",
   "execution_count": null,
   "id": "89d29f53",
   "metadata": {},
   "outputs": [],
   "source": [
    "number_clusters = range(1,n)\n",
    "plt.plot(number_clusters,wcss)\n",
    "plt.title('The Elbow Method')\n",
    "plt.xlabel('Number of Clusters')\n",
    "plt.ylabel('Within-Cluster Sum of Squares')"
   ]
  },
  {
   "cell_type": "markdown",
   "id": "cf6f6bfc",
   "metadata": {},
   "source": [
    "###### Run k-means clustering with optimal 'k'"
   ]
  },
  {
   "cell_type": "code",
   "execution_count": null,
   "id": "5dfde951",
   "metadata": {},
   "outputs": [],
   "source": [
    "k = '####' # number of clusters to create, NB: Integer value\n",
    "kmeans = KMeans(k,init='k-means++')"
   ]
  },
  {
   "cell_type": "code",
   "execution_count": null,
   "id": "6c9a0029",
   "metadata": {},
   "outputs": [],
   "source": [
    "# Fit the input data, i.e. cluster the data in X in K clusters\n",
    "kmeans.fit(x1)"
   ]
  },
  {
   "cell_type": "markdown",
   "id": "5f3b3fb4",
   "metadata": {},
   "source": [
    "## Clustering results"
   ]
  },
  {
   "cell_type": "code",
   "execution_count": null,
   "id": "c55aa5b8",
   "metadata": {},
   "outputs": [],
   "source": [
    "# Create a variable which will contain the predicted clusters for each observation\n",
    "identified_clusters = kmeans.fit_predict(x1)\n",
    "# Check the result\n",
    "identified_clusters"
   ]
  },
  {
   "cell_type": "code",
   "execution_count": null,
   "id": "fa6b2274",
   "metadata": {},
   "outputs": [],
   "source": [
    "# Create a copy of the data\n",
    "data_with_clusters = data.copy()\n",
    "# Create a new Series, containing the identified cluster for each observation\n",
    "data_with_clusters['Cluster'] = identified_clusters\n",
    "# Check the result\n",
    "data_with_clusters"
   ]
  },
  {
   "cell_type": "code",
   "execution_count": null,
   "id": "b4d06bfe",
   "metadata": {},
   "outputs": [],
   "source": [
    "start,stop = '####','####' # starting and ending values on the x or y axis\n",
    "\n",
    "plt.scatter(y,x,c=data_with_clusters['Cluster'],cmap='rainbow')\n",
    "plt.xlim(start,stop) # limit/scale on x-axis\n",
    "plt.ylim(start,stop) # limit/scale on y-axis\n",
    "plt.show()"
   ]
  },
  {
   "cell_type": "markdown",
   "id": "9594f917",
   "metadata": {},
   "source": [
    "#### Compare predicted categories to actual (if known)"
   ]
  },
  {
   "cell_type": "code",
   "execution_count": null,
   "id": "8bec2b28",
   "metadata": {},
   "outputs": [],
   "source": [
    "def confusion_matrix(df: pd.DataFrame, col1: str, col2: str):\n",
    "    \"\"\"\n",
    "    Given a dataframe with at least\n",
    "    two categorical columns, create a \n",
    "    confusion matrix of the count of the columns\n",
    "    cross-counts\n",
    "    \n",
    "    use like:\n",
    "    \n",
    "    >>> confusion_matrix(test_df, 'actual_label', 'predicted_label')\n",
    "    \"\"\"\n",
    "    return (\n",
    "            df\n",
    "            .groupby([col1, col2])\n",
    "            .size()\n",
    "            .unstack(fill_value=0)\n",
    "            )"
   ]
  }
 ],
 "metadata": {
  "kernelspec": {
   "display_name": "Python 3 (ipykernel)",
   "language": "python",
   "name": "python3"
  },
  "language_info": {
   "codemirror_mode": {
    "name": "ipython",
    "version": 3
   },
   "file_extension": ".py",
   "mimetype": "text/x-python",
   "name": "python",
   "nbconvert_exporter": "python",
   "pygments_lexer": "ipython3",
   "version": "3.9.7"
  }
 },
 "nbformat": 4,
 "nbformat_minor": 5
}
