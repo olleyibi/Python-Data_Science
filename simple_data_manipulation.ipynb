{
 "cells": [
  {
   "cell_type": "markdown",
   "id": "ebce1144",
   "metadata": {},
   "source": [
    "### Loading a data"
   ]
  },
  {
   "cell_type": "code",
   "execution_count": null,
   "id": "9086ec67",
   "metadata": {},
   "outputs": [],
   "source": [
    "file_path = '####' # provide path the file/data, NB: all '\\' must be changed to '/'\n",
    "\n",
    "data = pd.read_csv(file_path,\n",
    "                  index_col = col_name # column to be used as the dataframe index\n",
    "                  ) # import a .csv file"
   ]
  },
  {
   "cell_type": "markdown",
   "id": "5021a446",
   "metadata": {},
   "source": [
    "### Basic functions"
   ]
  },
  {
   "cell_type": "code",
   "execution_count": null,
   "id": "bee0f24c",
   "metadata": {},
   "outputs": [],
   "source": [
    "type('####') # gives the type of the input/variable [int/float/bool]"
   ]
  },
  {
   "cell_type": "code",
   "execution_count": null,
   "id": "39b8366c",
   "metadata": {},
   "outputs": [],
   "source": [
    "int('####') # convert an input/var to integer data type\n",
    "\n",
    "float('####') # convert an input/var to float/decimal\n",
    "\n",
    "str('####') # convert an input/var to strings/character\n",
    "\n",
    "min(a,b,c,.....) # get the minimum value in the sequence/list/tuple\n",
    "\n",
    "max(a,b,c,.....) # get the maximum value in the sequence/list/tuple\n",
    "\n",
    "sum(a,b,c,.....) # sum all the value in the sequence/list/tuple\n",
    "\n",
    "round(a,b) # round/approximate value 'a' to 'b' decimal places\n",
    "\n",
    "a.round(b) # round/approximate value 'a' to 'b' decimal places\n",
    "\n",
    "len('####') # gives length/number od element in a string, list, tuple or dictionary\n",
    "\n",
    "list/tuple(range(start,stop,step)) # give a ranged list/tuple of numbers begining at 'start', [ends at 'stop'-1] with interval of 'step'\n",
    "        # start = first number in the list, NB: if not provided, it is taken as 0\n",
    "        # stop = last value -1, NB: must be provided\n",
    "        # step = distance/interval between 2 consecutive values, NB: if not provided, it is taken as 1\n",
    "        # start, stop, step must always be an integer type\n",
    "\n",
    "np.arange(start,stop,step) # Generate an 'ARRAY' range of numbers begining at 'start', [ends at 'stop'-1] with interval of 'step'"
   ]
  },
  {
   "cell_type": "code",
   "execution_count": null,
   "id": "36c10ed5",
   "metadata": {},
   "outputs": [],
   "source": [
    "a % b # gives the remainder of a/b\n",
    "\n",
    "a ** b # gives the result of a raised to th epower of b (a^b)\n",
    "\n",
    "pow(a,b) # gives the result of a raised to th epower of b (a^b)"
   ]
  },
  {
   "cell_type": "markdown",
   "id": "5e6a5351",
   "metadata": {},
   "source": [
    "#### Indexing operations \n",
    "'####' represents name of string/list/tuple"
   ]
  },
  {
   "cell_type": "code",
   "execution_count": null,
   "id": "09640955",
   "metadata": {},
   "outputs": [],
   "source": [
    "'####'[a] # extract the 'a'TH element from the string/list/tuple, NB: 'a' is an integer value \n",
    "\n",
    "'####'[-1] # extract last element of string/list/tuple\n",
    "\n",
    "'####'[a] = b # replace element on string/list/tuple in position 'a' with element/value b, NB: a is the integer position/index\n",
    "\n",
    "'####'.index(a) # returns the position 'a' is found in the string/list/tuple"
   ]
  },
  {
   "cell_type": "markdown",
   "id": "90e121d8",
   "metadata": {},
   "source": [
    "#### List and slice operations\n",
    "'####' represents name of list"
   ]
  },
  {
   "cell_type": "code",
   "execution_count": null,
   "id": "6ab49c8c",
   "metadata": {},
   "outputs": [],
   "source": [
    "'####'.append(a) # add a single value/element 'a' to the end of a list\n",
    "\n",
    "del '####'[a] # delete element/value on list in position 'a'\n",
    "\n",
    "'####'.extend([a,b,....]) # add values/elements 'a,b,.....' to the end of a list\n",
    "\n",
    "'####'[a:b] # select/slice element from position a to (b-1), NB: 'a' and 'b' are integer values\n",
    "\n",
    "'####'[:a] # select/slice element from the first position to (a-1), NB: 'a' is an integer value\n",
    "\n",
    "'####'[:a] # select/slice element from position a to the last position, NB: 'a' is an integer value\n",
    "\n",
    "'####'.sort(reverse = True) # orders the element of a list alphabetically or numerically, NB: 'reverse=True' sorts from high to low"
   ]
  },
  {
   "cell_type": "markdown",
   "id": "565b1ed9",
   "metadata": {},
   "source": [
    "#### String operations"
   ]
  },
  {
   "cell_type": "code",
   "execution_count": null,
   "id": "4a1573b1",
   "metadata": {},
   "outputs": [],
   "source": [
    "'a,d,c,....'.split(',') # split the string where ',' is found and create a list/tuple with the element "
   ]
  },
  {
   "cell_type": "markdown",
   "id": "c26e5b77",
   "metadata": {},
   "source": [
    "#### Dictionary operations\n",
    "'####', alphabets, numerals represents dictionary names, keys and values respectively"
   ]
  },
  {
   "cell_type": "code",
   "execution_count": null,
   "id": "32f0ab3b",
   "metadata": {},
   "outputs": [],
   "source": [
    "'####'[a] # get all values under key 'a' in the dictionary\n",
    "\n",
    "'####'[a] = '1' # create a new dictionary key 'a' with value '1' OR replace/change value of dictionary key 'a' as/to '1'\n",
    "\n",
    "'####'.get(a) # get all values under key 'a' in the dictionary, NB: returns 'none if key doesn't exist"
   ]
  },
  {
   "cell_type": "markdown",
   "id": "c7354267",
   "metadata": {},
   "source": [
    "#### Dataframe transformation"
   ]
  },
  {
   "cell_type": "code",
   "execution_count": null,
   "id": "20918f86",
   "metadata": {},
   "outputs": [],
   "source": [
    "pd.options.display.max.rows = n # Display 'n' number of rows from an output\n",
    "\n",
    "pd.set_option('display.float_format', lambda x: '%.2f' % x) # display all floats in 2 decimal places in dataframes\n",
    "np.set_printoptions(formatter={'float': lambda x: \"{0:0.2f}\".format(x)}) # display all floats in 2 decimal places in arrayw\n",
    "\n",
    "data.head(n) # see the first n rows of a dataframe\n",
    "\n",
    "# Sort values by specified column\n",
    "col_name = '####' # column to be sorted by\n",
    "data.sort_values(by=[col_name])\n",
    "\n",
    "data.isnull() # find missing values in a dataframe\n",
    "\n",
    "data.isnull().sum() # find count of missing values for all columns in a dataframe\n",
    "\n",
    "# get the 'a'th % percentile of a numeric column\n",
    "col_name = '####' # column name\n",
    "a = '####' # required percentile\n",
    "data[col_name].quantile(a)\n",
    "\n",
    "# get the natural log transformation of a column\n",
    "col_name = '####' # column name\n",
    "np.log(data[col_name])\n",
    "\n",
    "# get the anti-log transformation of a column\n",
    "col_name = '####' # column name\n",
    "np.exp(data[col_name])\n",
    "\n",
    "np.absolute(data) # get the absolute value of teh data\n",
    "\n",
    "data.shape # check the dimensions of a dataframe\n",
    "\n",
    "data.columns.values # return the column names of a dataframe in an array\n",
    "\n",
    "new_data = init_data.copy() # duplicate/copy all content/structure from init_data to new_data\n",
    "\n",
    "data[col_name] = data[col_name].map({old_val_1:new_val_1,........old_val_n:new_val_n0}) # manually map categorical values in a column to new values\n",
    "\n",
    "# Create new dataframe (insert values by column)\n",
    "col_name_1,.....col_name_n = '####',....'####' # define column names\n",
    "val1,.....valn = ['####',.....'####'],......['####'.....'####'] # define values for each column names\n",
    "new_dataframe = pd.DataFrame({col_name_1:val1,........col_name_n:valn})\n",
    "# OR (insert values by rows)\n",
    "col_1_val,.....col_n_val = '####',....'####' # value for column n\n",
    "col_1_name,....col_nname = '####',....'####' # names of columns\n",
    "new_dataframe = pd.DataFrame(data = [[col_1_val,....col_n_val]], columns = [col_1_name,....col_n_name])\n",
    "\n",
    "# Rename Dataframe Index\n",
    "dataframe.rename(index={old_val_1:new_val_1,....old_val_n:new_val_n})\n",
    "\n",
    "# Join dataframes together (add by column with same row counts)\n",
    "dataframe1 = '####'\n",
    "dataframe2 = '####'\n",
    "joined_dataframe = dataframe1.join(dataframe2)\n",
    "\n",
    "# Add new column to a dataframe\n",
    "new_col_name = '####' # name of new column\n",
    "col_values = '####' # values in new column\n",
    "data[new_col_name] = col_values\n",
    "\n",
    "# drop rows with missing values\n",
    "new_data = data.dropna(axis = 0 # axis = 1 (represent column), axis = 0 (represent row)\n",
    "                      )\n",
    "\n",
    "# Drop column(s)\n",
    "col_name_1,.....col_name_n = '####',....'####' # columns to be dropped\n",
    "new_dataframe = dataframe.drop([col_name_1,....col_name_n],\n",
    "                              axis = 1 \n",
    "                              )\n",
    "\n",
    "# Create dummy columns for all categorical variables in a dataframe\n",
    "data = '####' # dataframe with categorical variables\n",
    "pd.get_dummies(data,\n",
    "               drop_first=True # do not create a dummy column for first value in a categorical column\n",
    "              )"
   ]
  },
  {
   "cell_type": "markdown",
   "id": "f1b27f76",
   "metadata": {},
   "source": [
    "###### Dataframe Slice"
   ]
  },
  {
   "cell_type": "code",
   "execution_count": null,
   "id": "02df9f58",
   "metadata": {},
   "outputs": [],
   "source": [
    "data.iloc[a:b,c:d] # select all data between row_number 'a' to 'b-1' and column_number 'c' to 'd-1' NB: a,b,c,d are all integers"
   ]
  },
  {
   "cell_type": "markdown",
   "id": "0b6bd28d",
   "metadata": {},
   "source": [
    "#### Split Train Test"
   ]
  },
  {
   "cell_type": "code",
   "execution_count": null,
   "id": "e8922178",
   "metadata": {},
   "outputs": [],
   "source": [
    "# Import Libraries\n",
    "import numpy as np\n",
    "from sklearn.model_selection import train_test_split\n",
    "\n",
    "# It is important that the data supplied are in array format\n",
    "dataframe_array_1,.....dataframe_array_n = '####',......'####' # dataframe in an array format\n",
    "train_test_split(dataframe_array_1,.....dataframe_array_n, # split array into test and train sets\n",
    "                test_size = '####' # proportion size of 'test set' to total dataset, NB: 0 <= test_size <= 1\n",
    "                 shuffle = True # shuffle the data array before split\n",
    "                 random_state = '####' # set to get exactly the same shuffle split each time it occurs, NB: it is an integer\n",
    "                )\n",
    "# Default split is 75:25 (train to test set)"
   ]
  }
 ],
 "metadata": {
  "kernelspec": {
   "display_name": "Python 3 (ipykernel)",
   "language": "python",
   "name": "python3"
  },
  "language_info": {
   "codemirror_mode": {
    "name": "ipython",
    "version": 3
   },
   "file_extension": ".py",
   "mimetype": "text/x-python",
   "name": "python",
   "nbconvert_exporter": "python",
   "pygments_lexer": "ipython3",
   "version": "3.9.7"
  }
 },
 "nbformat": 4,
 "nbformat_minor": 5
}
