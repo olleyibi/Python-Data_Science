{
 "cells": [
  {
   "cell_type": "code",
   "execution_count": null,
   "id": "183eb25a",
   "metadata": {},
   "outputs": [],
   "source": [
    "x = '####' # data of x axis\n",
    "y = '####' # data of y axis\n",
    "\n",
    "xname = '####' # name of x axis\n",
    "yname = '####' # name of y axis\n",
    "\n",
    "m = \"####\" # intercept, NB: is a number\n",
    "err = '####' # error/residual/epsalon, NB: is a number\n",
    "\n",
    "start,stop = '####','####' # starting and ending values on the x or y axis\n",
    "\n",
    "plt.scatter(x,y,\n",
    "            alpha = 0.2, # turns the scatter point to some sort of heat map\n",
    "           c = 'red' # points can be colored by specified columns, ie, category column\n",
    "           ) # plot the values of x against y\n",
    "yhat = m*x + err # equation of line\n",
    "fig = plt.plot(x,yhat,\n",
    "               lw=4, # line width\n",
    "               c = 'orange', # line color,\n",
    "               label= 'regression line') # line label, NB: Add a best-fit line\n",
    "plt.xlabel(xname, fontsize = 20) # label x-axis\n",
    "plt.ylabel(yname, fontsize = 20) # label y-axis\n",
    "plt.title('####') # give the plot a title\n",
    "plt.xlim(start,stop) # limit/scale on x-axis\n",
    "plt.ylim(start,stop) # limit/scale on y-axis\n",
    "plt.show()"
   ]
  },
  {
   "cell_type": "markdown",
   "id": "1a3c8220",
   "metadata": {},
   "source": [
    "#### Check the probability distribution function (PDF) plot of a variable"
   ]
  },
  {
   "cell_type": "code",
   "execution_count": null,
   "id": "543773ef",
   "metadata": {},
   "outputs": [],
   "source": [
    "data = '####' # dataframe\n",
    "col_name = '####' # column name\n",
    "sns.distplot(data[col_name])"
   ]
  },
  {
   "cell_type": "markdown",
   "id": "8d6a25d3",
   "metadata": {},
   "source": [
    "#### Multiple plots on a page"
   ]
  },
  {
   "cell_type": "code",
   "execution_count": null,
   "id": "b8e3dcf8",
   "metadata": {},
   "outputs": [],
   "source": [
    "ax1,.....axn # indicates each plot\n",
    "x_1,....x_n = '####',...'####' # x-axis columns\n",
    "y_1,....y_n = '####',...'####' # y-axis columns\n",
    "row,columns = '####','####' # number of rows,columns on plot page\n",
    "horizontal,vertical = '####','####' # integer values for size of figure plot\n",
    "f, (ax1,....,axn) = plt.subplots(row,\n",
    "                                 column,\n",
    "                                 sharey=True, # use same y-axis for all plots\n",
    "                                 sharex=False, # use same x-axis for all plots\n",
    "                                 figsize = (horizontal,vertical) # size of plot image\n",
    "                                )\n",
    "axn.scater(x_1,y_1)\n",
    "ax1.set_title('####') # set title of plot\n",
    ".\n",
    ".\n",
    ".\n",
    "axn.scater(x_n,y_n)\n",
    "axn.set_title('####')\n",
    "\n",
    "plt.show()"
   ]
  },
  {
   "cell_type": "markdown",
   "id": "bf6140b7",
   "metadata": {},
   "source": [
    "#### Residual plot"
   ]
  },
  {
   "cell_type": "code",
   "execution_count": null,
   "id": "1292cb4f",
   "metadata": {},
   "outputs": [],
   "source": [
    "# \n",
    "y = '####' # actual target values\n",
    "y_hat = '####' # predicted values from model\n",
    "sns.distplot(y-y_hat)\n",
    "plt.title('Residual PDF', size = 18)"
   ]
  }
 ],
 "metadata": {
  "kernelspec": {
   "display_name": "Python 3 (ipykernel)",
   "language": "python",
   "name": "python3"
  },
  "language_info": {
   "codemirror_mode": {
    "name": "ipython",
    "version": 3
   },
   "file_extension": ".py",
   "mimetype": "text/x-python",
   "name": "python",
   "nbconvert_exporter": "python",
   "pygments_lexer": "ipython3",
   "version": "3.9.7"
  }
 },
 "nbformat": 4,
 "nbformat_minor": 5
}
