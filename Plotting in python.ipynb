{
 "cells": [
  {
   "cell_type": "code",
   "execution_count": null,
   "id": "183eb25a",
   "metadata": {},
   "outputs": [],
   "source": [
    "x = '####' # data of x axis\n",
    "y = '####' # data of y axis\n",
    "\n",
    "xname = '####' # name of x axis\n",
    "yname = '####' # name of y axis\n",
    "\n",
    "m = \"####\" # intercept, NB: is a number\n",
    "err = '####' # error/residual/epsalon, NB: is a number\n",
    "\n",
    "plt.scatter(x,y,\n",
    "           c = 'red' # points can be colored by specified columns, ie, category column\n",
    "           ) # plot the values of x against y\n",
    "yhat = m*x + err # equation of line\n",
    "fig = plt.plot(x,yhat,\n",
    "               lw=4, # line width\n",
    "               c = 'orange', # line color,\n",
    "               label= 'regression line') # line label, NB: Add a best-fit line\n",
    "plt.xlabel(xname, fontsize = 20) # label x-axis\n",
    "plt.ylabel(yname, fontsize = 20) # label y-axis\n",
    "plt.show()"
   ]
  }
 ],
 "metadata": {
  "kernelspec": {
   "display_name": "Python 3 (ipykernel)",
   "language": "python",
   "name": "python3"
  },
  "language_info": {
   "codemirror_mode": {
    "name": "ipython",
    "version": 3
   },
   "file_extension": ".py",
   "mimetype": "text/x-python",
   "name": "python",
   "nbconvert_exporter": "python",
   "pygments_lexer": "ipython3",
   "version": "3.9.7"
  }
 },
 "nbformat": 4,
 "nbformat_minor": 5
}
